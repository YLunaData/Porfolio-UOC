{
  "nbformat": 4,
  "nbformat_minor": 0,
  "metadata": {
    "colab": {
      "provenance": []
    },
    "kernelspec": {
      "name": "python3",
      "display_name": "Python 3"
    },
    "language_info": {
      "name": "python"
    }
  },
  "cells": [
    {
      "cell_type": "markdown",
      "source": [
        "# **Ejercicio 1**\n",
        "\n",
        "El dueño de un helipuerto ha diseñado un sistema para distribuir las llegadas de los helicópteros entre las diferentes zonas del lugar.\n",
        "\n",
        "Hay cuatro helicópteros 1, 2, 3 y 4 y dos posibles sentidos, ”E” (este) y ”O” (oeste).\n",
        "\n",
        "Las reglas de distribución son las siguientes:\n",
        "\n",
        "Al helicóptero 1 con sentido \"este\" le corresponde la zona 8 y sentido \"oeste\"\n",
        "la zona 7.\n",
        "\n",
        "Al helicóptero 2 corresponden la zona 10 (este) y 9 (oeste).\n",
        "\n",
        "Al helicóptero 3 son 12 y 13 (este y oeste respectivamente).\n",
        "\n",
        "Al helicóptero 4 le corresponden la zona 14 (este) y 15 (oeste).\n",
        "\n",
        "Diseñad la función zona(helicopteros,sentido) que reciba como parámetros un valor entero positivo que representa el helicóptero y un carácter que indique el sentido(”E” para este y ”O” para oeste).\n",
        "\n",
        "El resultado deberá ser el número de la zona correspondiente. En caso de que el helicóptero o el sentido no sean válidos, ha de devolver un 0.\n",
        "\n",
        "Como segunda parte de este ejercicio, utilizando programación funcional, realiza lo siguiente:\n",
        "\n",
        "Muestra el resultado de las siguientes combinaciones\n",
        "Mostrar la/s tupla/s que se pueden realizar.\n",
        "\n",
        "[ [3,\"O\"],[7,\"O\"],[2,\"E\"] ]"
      ],
      "metadata": {
        "id": "Xn1RaqWCz6a7"
      }
    },
    {
      "cell_type": "code",
      "source": [
        "!pip install pycodestyle flake8 pycodestyle_magic\n",
        "%load_ext pycodestyle_magic\n",
        "%pycodestyle_on"
      ],
      "metadata": {
        "colab": {
          "base_uri": "https://localhost:8080/"
        },
        "id": "_UsoHkMSwmVA",
        "outputId": "f77f0586-66f5-4004-9067-c0a9f5350718"
      },
      "execution_count": null,
      "outputs": [
        {
          "output_type": "stream",
          "name": "stdout",
          "text": [
            "Requirement already satisfied: pycodestyle in /usr/local/lib/python3.11/dist-packages (2.13.0)\n",
            "Requirement already satisfied: flake8 in /usr/local/lib/python3.11/dist-packages (7.2.0)\n",
            "Requirement already satisfied: pycodestyle_magic in /usr/local/lib/python3.11/dist-packages (0.5)\n",
            "Requirement already satisfied: mccabe<0.8.0,>=0.7.0 in /usr/local/lib/python3.11/dist-packages (from flake8) (0.7.0)\n",
            "Requirement already satisfied: pyflakes<3.4.0,>=3.3.0 in /usr/local/lib/python3.11/dist-packages (from flake8) (3.3.2)\n",
            "The pycodestyle_magic extension is already loaded. To reload it, use:\n",
            "  %reload_ext pycodestyle_magic\n"
          ]
        }
      ]
    },
    {
      "cell_type": "code",
      "execution_count": null,
      "metadata": {
        "colab": {
          "base_uri": "https://localhost:8080/"
        },
        "id": "KTp3p9MQznXH",
        "outputId": "c0dbe7a7-db16-453d-ad54-2af9fa9205c0"
      },
      "outputs": [
        {
          "output_type": "stream",
          "name": "stdout",
          "text": [
            "Tuplas validas y sus zonas:\n",
            "[3, 'o'] -> zona: 13\n",
            "[2, 'e'] -> zona: 10\n"
          ]
        }
      ],
      "source": [
        "\n",
        "\n",
        "def zona(helicoptero: int, sentido: str) -> int:\n",
        "    \"\"\"Devuelve el numero de la zona correspondiente a los helicopteros.\n",
        "\n",
        "    Args:\n",
        "        helicoptero (int): numero de helicopteros entre 1 y 4.\n",
        "        sentido (str): sentido del movimiento ('e' para este, 'o' para oeste)\n",
        "\n",
        "    Returns:\n",
        "        int: numero de zona correspondiente, 0 si la combinacion no existe.\n",
        "    \"\"\"\n",
        "    distribucion = {\n",
        "        1: {'o': 7, 'e': 9},\n",
        "        2: {'o': 9, 'e': 10},\n",
        "        3: {'o': 13, 'e': 12},\n",
        "        4: {'o': 15, 'e': 14}\n",
        "    }\n",
        "\n",
        "    if helicoptero in distribucion:\n",
        "        if sentido.lower() in distribucion[helicoptero]:\n",
        "            return distribucion[helicoptero][sentido.lower()]\n",
        "    return 0\n",
        "\n",
        "\n",
        "# Combinaciones personalizadas con la corrección en el sentido.\n",
        "comb_personalizadas = [[3, \"o\"], [7, \"o\"], [2, \"e\"]]\n",
        "\n",
        "\n",
        "# Filtrar las combinaciones válidas\n",
        "comb_validas = list(filter(lambda x: zona(*x) != 0, comb_personalizadas))\n",
        "\n",
        "# Mostrar las tuplas válidas y sus zonas\n",
        "print('Tuplas validas y sus zonas:')\n",
        "for c in comb_validas:\n",
        "    print(f'{c} -> zona: {zona(*c)}')"
      ]
    },
    {
      "cell_type": "markdown",
      "source": [
        "# **Ejercicio 2.1**\n",
        "\n",
        "Un inversor ha realizado diferentes transacciones en una cartera de inversión y ha obtenido bastante beneficio a lo largo de un año. Ahora, le gustaría cambiar todo el beneficio que ha obtenido en AED (Dírham de los Emiratos Árabes Unidos) a otra moneda.\n",
        "\n",
        "Para ello, ha decidido realizar un cambio de divisa y las divisas que ha seleccionado son las siguientes:\n",
        "\n",
        "Euro: 1 AED -> 0,26233 EURO\n",
        "\n",
        "Dólar: 1 AED -> 0,27227 USD\n",
        "\n",
        "Yen: 1 AED -> 41,0084 YEN\n",
        "\n",
        "Soles: 1 AED -> 1,01084 SOL\n",
        "\n",
        "Los datos de las transacciones se encuentran en el Excel inversion.xlsx.\n",
        "\n",
        "Para poder realizar el ejericio cargue el fichero inversion.xlsx en un dataframe.\n",
        "\n",
        "2.1: Se pide crear una función \"convertir_divisas\" que cree una nueva columna por cada divisa en el dataframe en donde se haga la conversión de su moneda (AED) a las divisas escogidas.\n",
        "\n"
      ],
      "metadata": {
        "id": "4gB-DvpC6_co"
      }
    },
    {
      "cell_type": "code",
      "source": [
        "import pandas as pd\n",
        "\n",
        "# Se carga el dataset y se imprime\n",
        "df_inversion = pd.read_excel('/content/inversion.xlsx')\n",
        "print('Dataset Orifinal')\n",
        "print(df_inversion.head(5))\n",
        "\n",
        "# Creamos uno copia del dataset para poder trabajar\n",
        "data_inversion = df_inversion.copy()\n",
        "\n",
        "\n",
        "def convertir_divisas(data_inversion):\n",
        "    \"\"\"Crea una nueva columna por cada moneda seleccionada.\n",
        "\n",
        "    Args: El dataset data_inversion\n",
        "\n",
        "    Return: El dataset modificado\n",
        "\n",
        "    \"\"\"\n",
        "    data_inversion['Euro'] = data_inversion['Divisa'] * 0.26233\n",
        "    data_inversion['Dolar'] = data_inversion['Divisa'] * 0.27227\n",
        "    data_inversion['Yen'] = data_inversion['Divisa'] * 41.0084\n",
        "    data_inversion['Soles'] = data_inversion['Divisa'] * 1.01084\n",
        "\n",
        "    return data_inversion\n",
        "\n",
        "\n",
        "# Se llama a la funcion y se imprimen los resultados\n",
        "data_inversion = convertir_divisas(data_inversion)\n",
        "print('Dataset con las nuevas columnas')\n",
        "print(data_inversion.head(5), '\\n')"
      ],
      "metadata": {
        "colab": {
          "base_uri": "https://localhost:8080/"
        },
        "id": "3_XJykBj7bFA",
        "outputId": "cb9c6a88-8a55-4fac-e997-3b50ffdc519a"
      },
      "execution_count": null,
      "outputs": [
        {
          "output_type": "stream",
          "name": "stdout",
          "text": [
            "Dataset Orifinal\n",
            "       Fecha  Divisa\n",
            "0 2024-01-01     509\n",
            "1 2024-01-05     103\n",
            "2 2024-01-06     110\n",
            "3 2024-01-07     338\n",
            "4 2024-01-08     525\n",
            "Dataset con las nuevas columnas\n",
            "       Fecha  Divisa       Euro      Dolar         Yen      Soles\n",
            "0 2024-01-01     509  133.52597  138.58543  20873.2756  514.51756\n",
            "1 2024-01-05     103   27.01999   28.04381   4223.8652  104.11652\n",
            "2 2024-01-06     110   28.85630   29.94970   4510.9240  111.19240\n",
            "3 2024-01-07     338   88.66754   92.02726  13860.8392  341.66392\n",
            "4 2024-01-08     525  137.72325  142.94175  21529.4100  530.69100 \n",
            "\n"
          ]
        }
      ]
    },
    {
      "cell_type": "markdown",
      "source": [
        "# **Ejercicio 2.2**\n",
        "\n",
        "2.2 Se pide crear una función que se llame: \"total_divisas\" y que tome como entrada el archivo Excel y que devuelva el nombre de las divisas y el monto total generado durante el año por cada una de ellas."
      ],
      "metadata": {
        "id": "Z8OUdCo4_mhf"
      }
    },
    {
      "cell_type": "code",
      "source": [
        "\n",
        "\n",
        "def total_divisas(data_inversion):\n",
        "    \"\"\"Suma los valores de las columnas y las asigna a una variable.\n",
        "\n",
        "    Args: Recibe como argumento el anterior dataset resultante.\n",
        "\n",
        "    Return:\n",
        "           Print: La suma de los valores.\n",
        "           Return: Un diccionario con la misma informacion\n",
        "           para ser reutilizado.\n",
        "\n",
        "    \"\"\"\n",
        "    total_euro = data_inversion['Euro'].sum()\n",
        "    total_dolar = data_inversion['Dolar'].sum()\n",
        "    total_yen = data_inversion['Yen'].sum()\n",
        "    total_soles = data_inversion['Soles'].sum()\n",
        "\n",
        "    print(f'Se han recaudado: {total_euro:.2f} en Euros')\n",
        "    print(f'Se han recaudado: {total_dolar:.2f} en Dolar')\n",
        "    print(f'Se han recaudado: {total_yen:.2f} en Yen')\n",
        "    print(f'Se han recaudado: {total_soles:.2f} en Soles')\n",
        "\n",
        "    return {\n",
        "        'Euro': total_euro,\n",
        "        'Dolar': total_dolar,\n",
        "        'Yen': total_yen,\n",
        "        'Soles': total_soles\n",
        "    }\n",
        "\n",
        "\n",
        "totales = total_divisas(data_inversion)"
      ],
      "metadata": {
        "colab": {
          "base_uri": "https://localhost:8080/"
        },
        "id": "KIjVRfaM_x7l",
        "outputId": "232d4c22-a5d8-4b13-8ab8-9cd327cb94bf"
      },
      "execution_count": null,
      "outputs": [
        {
          "output_type": "stream",
          "name": "stdout",
          "text": [
            "Se han recaudado: 51969.41 en Euros\n",
            "Se han recaudado: 53938.59 en Dolar\n",
            "Se han recaudado: 8124051.10 en Yen\n",
            "Se han recaudado: 200254.48 en Soles\n"
          ]
        }
      ]
    },
    {
      "cell_type": "markdown",
      "source": [
        "# **Ejercicio 2.3**\n",
        "\n",
        "2.3 Ahora, a este inversor le gustaría saber si con sus ganancias obtenidas durante un año podría irse a vivir a uno de los países de las divisas escogidas. Para saberlo, se pide crear la función \"pais_mas_accesible\" que tendrá como entrada el resultado del apartado anterior. Por otro lado, el resultado de esta función será el país donde podría ir a vivir. El país escogido será el que tenga mayor excedente.\n",
        "\n",
        "Tiene que tomar en cuenta el costo de vida y ver cuál sería la mejor opción para ella.\n",
        "\n",
        "Se puede tomar como referencia los siguientes costos de vida (mensual):\n",
        "\n",
        "España (euro): 1.200 euros\n",
        "\n",
        "EE.UU. (dólar): 5.857 dólares\n",
        "\n",
        "Japón (yen): 425.710 yenes\n",
        "\n",
        "Perú (sol): 3.927 soles\n",
        "\n",
        "Nota:\n",
        "\n",
        "Para realizar el tercer apartado pueden dividir de forma proporcional el monto total calculado en el apartado 2 y de esta forma ver mensualmente si es factible el vivir en ese país."
      ],
      "metadata": {
        "id": "m_PFJvXrFOTE"
      }
    },
    {
      "cell_type": "code",
      "source": [
        "\n",
        "\n",
        "def pais_mas_accesible(totales):\n",
        "    \"\"\"Divide los ingresos por el costo mensual de vivir en el pais.\n",
        "\n",
        "    Args: El diccionario resultante del ejercicio anterior.\n",
        "\n",
        "    Return: El pais donde puede vivir mas meses con el dinero obtenido.\n",
        "\n",
        "    \"\"\"\n",
        "    meses_españa = totales['Euro']/1200\n",
        "    meses_eeuu = totales['Dolar']/5875\n",
        "    meses_japon = totales['Yen']/425710\n",
        "    meses_peru = totales['Soles']/3927\n",
        "\n",
        "    meses = {\n",
        "        'españa': meses_españa,\n",
        "        'eeuu': meses_eeuu,\n",
        "        'japon': meses_japon,\n",
        "        'peru': meses_peru\n",
        "    }\n",
        "\n",
        "    print(f'El pais con mas excedente es: {max(meses, key=meses.get)}')\n",
        "    return max(meses, key=meses.get)\n",
        "\n",
        "\n",
        "mejor_pais = pais_mas_accesible(totales)"
      ],
      "metadata": {
        "colab": {
          "base_uri": "https://localhost:8080/"
        },
        "id": "ak-LNBbzFNs-",
        "outputId": "8a07e1aa-01c4-4fc6-e64f-037c529cb446"
      },
      "execution_count": null,
      "outputs": [
        {
          "output_type": "stream",
          "name": "stdout",
          "text": [
            "El pais con mas excedente es: peru\n"
          ]
        }
      ]
    },
    {
      "cell_type": "markdown",
      "source": [
        "# **Ejercicio 3**\n",
        "\n",
        "Se desea saber si tenemos las piezas necesarias para armar una escultura.\n",
        "\n",
        "Para ello, se tienen los siguientes diccionarios:\n",
        "\n",
        "piezas: diccionario que indica las piezas que se tienen para construir la escultura\n",
        "\n",
        "caja: diccionario que indica las piezas que hacen falta para construir la escultura\n",
        "\n",
        "Para saber si tenemos las piezas necesarias, se pide crear una función contar_piezas(piezas,caja) en la que se indican los diccionarios y el resultado deberá ser un diccionario con las piezas que faltan para realizar la escultura.\n",
        "\n",
        "piezas = {'rojo':10, ’azul’:15, 'amarillo':25, ’verde’: 10, ’negro’:10}\n",
        "\n",
        "caja = {’gris’: 19, 'rojo':10, ’azul’:30, ’amarillo’:25, ’naranja’: 13}\n",
        "\n",
        "contar_piezas(piezas,caja)\n",
        "\n",
        "{’azul’:15, ’gris’: 19, ’naranja’: 13}"
      ],
      "metadata": {
        "id": "isb5-xkLZa_d"
      }
    },
    {
      "cell_type": "code",
      "source": [
        "\n",
        "\n",
        "def contar_piezas(piezas, caja):\n",
        "    \"\"\"Calcula las piezas que faltan.\n",
        "\n",
        "    Args:\n",
        "    piezas (dict): Diccionario con las piezas disponibles.\n",
        "    caja (dict): Diccionario con las piezas necesarias.\n",
        "\n",
        "    Return:\n",
        "    dict: Un nuevo diccionario con las piezas que faltan y\n",
        "    la cantidad faltante de cada una.\n",
        "\n",
        "    Solo se incluyen aquellas piezas cuya cantidad disponible\n",
        "    es insuficiente o no existe.\n",
        "    \"\"\"\n",
        "    resultado = {}\n",
        "\n",
        "    for color in caja:\n",
        "        cantidad_necesaria = caja[color]\n",
        "        cantidad_tenida = piezas.get(color, 0)  # si no existe, usamos 0\n",
        "\n",
        "        if cantidad_tenida < cantidad_necesaria:\n",
        "            resultado[color] = cantidad_necesaria - cantidad_tenida\n",
        "\n",
        "    return resultado\n",
        "\n",
        "\n",
        "piezas = {'rojo': 10, 'azul': 15, 'amarillo': 25, 'verde': 10, 'negro': 10}\n",
        "\n",
        "caja = {'gris': 19, 'rojo': 10, 'azul': 30, 'amarillo': 25, 'naranja': 13}\n",
        "contar_piezas(piezas, caja)"
      ],
      "metadata": {
        "colab": {
          "base_uri": "https://localhost:8080/"
        },
        "id": "l6TjiEDrZrhQ",
        "outputId": "d3564a3c-8747-452b-c732-cacd12a33b2e"
      },
      "execution_count": null,
      "outputs": [
        {
          "output_type": "execute_result",
          "data": {
            "text/plain": [
              "{'gris': 19, 'azul': 15, 'naranja': 13}"
            ]
          },
          "metadata": {},
          "execution_count": 13
        }
      ]
    },
    {
      "cell_type": "markdown",
      "source": [
        "# **Ejercicio 4**\n",
        "\n",
        "Se pide realizar una función que calcule el IMC (Índice de Masa Corporal) de un número determinado de personas. Para esto, se tiene el Excel llamado IMC.xslx.\n",
        "\n",
        "En este Excel se tiene la siguiente información:\n",
        "\n",
        "ID: identificador de las personas\n",
        "\n",
        "Nombre: nombre de las personas\n",
        "\n",
        "Edad: edad de las personas\n",
        "\n",
        "Altura: altura de las personas (cm)\n",
        "\n",
        "Peso: peso de las personas (kg)\n",
        "\n",
        "La función que se solicita se va a llamar imc, recibirá como entrada:\n",
        "\n",
        "El archivo de datos en formato .xlsx.\n",
        "\n",
        "Un número comprendido entre 1 y 200.\n",
        "\n",
        "El número comprendido entre 1 y 200 es el número que se va a utilizar para generar los números aleatorios.\n",
        "\n",
        "Estos números aleatorios también deberán estar comprendidos entre 1 y 200, ya que 200 es la cantidad de datos que tenemos en el excel\n",
        "\n",
        "Los números aleatorios generados corresponderán al ID de las personas, y serán los que se van a seleccionar.\n",
        "\n",
        "Por último, la salida será un diccionario en donde las claves serán los nombres de las personas y su valor corresponderá al IMC calculado.\n",
        "\n",
        "Nota:\n",
        "\n",
        "La fórmula del IMC es el peso (en kg) divido por la altura (en metros) al cuadrado."
      ],
      "metadata": {
        "id": "wNQoDvZdg9nW"
      }
    },
    {
      "cell_type": "code",
      "source": [
        "import pandas as pd\n",
        "import random\n",
        "\n",
        "\n",
        "def imc(df_imc, num_personas):\n",
        "    \"\"\"Calcula el IMC de un número determinado de personas.\n",
        "\n",
        "    Args:\n",
        "       df_imc (DataFrame): DataFrame con la información de las personas.\n",
        "       num_personas (int): Número de personas aleatorias a seleccionar.\n",
        "\n",
        "    Return:\n",
        "      Diccionario con los nombres de las personas y su IMC calculado.\n",
        "    \"\"\"\n",
        "    # Generar ids aleatorios\n",
        "    ids_aleatorios = random.sample(range(1, 201), num_personas)\n",
        "\n",
        "    # Agregar columna IMC, primero convertir altura a metros\n",
        "    df_imc['Altura_metros'] = df_imc['Altura']/100\n",
        "    df_imc['IMC'] = df_imc['Peso']/(df_imc['Altura_metros']**2)\n",
        "\n",
        "    # Crear diccionario para almacenar los resultados\n",
        "    resultado = {}\n",
        "\n",
        "    # Iterar sobre las filas del dataset para obtener los datos\n",
        "    # de las personas seleccionadas\n",
        "    for idx, row in df_imc.iterrows():\n",
        "        if row['ID'] in ids_aleatorios:\n",
        "            resultado[row['Nombre']] = round(row['IMC'], 2)  # Redondear IMC a\n",
        "            # 2 decimales\n",
        "\n",
        "    return resultado\n",
        "\n",
        "\n",
        "df_imc = pd.read_excel('/content/IMC.xlsx')\n",
        "imc_resultados = imc(df_imc, 3)\n",
        "print(imc_resultados)"
      ],
      "metadata": {
        "colab": {
          "base_uri": "https://localhost:8080/"
        },
        "id": "NOKNkEyRg8Gm",
        "outputId": "a20c3ac6-3406-44e7-8065-513465017146"
      },
      "execution_count": null,
      "outputs": [
        {
          "output_type": "stream",
          "name": "stdout",
          "text": [
            "{'Isabel': 13.56, 'Víctor': 21.54, 'Yvonne': 18.9}\n"
          ]
        }
      ]
    },
    {
      "cell_type": "markdown",
      "source": [
        "# **Ejercicio 5**\n",
        "\n",
        "Para este ejercicio, se desea saber cuáles son las palabras que se repiten más de una vez en un texto, por lo que se deberá crear una función que lea un texto y calcule cuántas veces se repiten todas las palabras y muestre las palabras que se repiten más de una vez. El archivo a utilizar es: Elladron.docx.\n",
        "\n",
        "Se pide crear la función lectura que recibirá la ruta donde se encuentra el archivo y deberá realizar lo siguiente:\n",
        "\n",
        "Lectura del archivo\n",
        "\n",
        "Conteo de todas las palabras del archivo\n",
        "\n",
        "Filtrar las palabras que se repitan más de una vez.\n",
        "\n",
        "El resultado de esta función serán las palabras (que se repiten más de una vez) con las veces que se repite.\n",
        "\n",
        "Notas importantes:\n",
        "\n",
        "1) Las palabras se cuentan por sí solas, es decir, si una palabra forma parte de otra no cuenta.\n",
        "\n",
        "2) Si una palabra tiene alguna letra mayúscula y otra no, pero es la misma palabra, se cuentan como iguales, por lo tanto, suma al contador de la palabra."
      ],
      "metadata": {
        "id": "QN0Km3fRqJD0"
      }
    },
    {
      "cell_type": "code",
      "source": [
        "!pip install python-docx\n",
        "from docx import Document\n",
        "from collections import Counter\n",
        "import re\n",
        "\n",
        "\n",
        "def lectura(ruta):\n",
        "    \"\"\"Lee un archivo .docx, cuenta las palabras que aparecen en el documento.\n",
        "\n",
        "    devuelve un diccionario con las palabras que se repiten más de una vez\n",
        "    junto con su frecuencia.\n",
        "\n",
        "    Args:\n",
        "    ruta (str): Ruta al archivo .docx que contiene el texto.\n",
        "\n",
        "    Return:\n",
        "    dict: Un diccionario donde las claves son las palabras que se repiten\n",
        "    más de una vez y los valores son el número de veces que cada palabra\n",
        "    se repite en el texto.\n",
        "    \"\"\"\n",
        "    # Abrir el archivo .docx\n",
        "    doc = Document(ruta)\n",
        "\n",
        "    # Leer todo el texto del documento y concatenarlo en un solo string\n",
        "    texto = ' '.join([parrafo.text for parrafo in doc.paragraphs]).lower()\n",
        "\n",
        "    # Utilizar expresiones regulares para extraer solo las palabras\n",
        "    palabras = re.findall(r'\\b\\w+\\b', texto)\n",
        "\n",
        "    # Contar las repeticiones de cada palabra\n",
        "    contador = Counter(palabras)\n",
        "\n",
        "    # Filtrar solo las palabras que se repiten más de una vez\n",
        "    palabras_repetidas = {\n",
        "        palabra: cantidad for palabra,\n",
        "        cantidad in contador.items() if cantidad > 1}\n",
        "\n",
        "    return palabras_repetidas\n",
        "\n",
        "\n",
        "resultado = lectura('/content/Elladron.docx')\n",
        "print(resultado)"
      ],
      "metadata": {
        "id": "w5QwsUznqTg0"
      },
      "execution_count": null,
      "outputs": []
    }
  ]
}